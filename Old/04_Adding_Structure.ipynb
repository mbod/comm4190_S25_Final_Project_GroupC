{
 "cells": [
  {
   "cell_type": "markdown",
   "id": "d4508ce0-0927-4031-9b4e-a0c38737f6f9",
   "metadata": {},
   "source": [
    "# Adding Structure to the Output #\n",
    "\n",
    "Let's see if we can add some structure to the output to make HealthPlan Helper's responses more consistent and easier to understand. "
   ]
  },
  {
   "cell_type": "code",
   "execution_count": 3,
   "id": "53caa52e-71de-45fe-899f-53830b7c36d0",
   "metadata": {},
   "outputs": [],
   "source": [
    "from openai import OpenAI\n",
    "from pydantic import BaseModel, Field\n",
    "from dotenv import load_dotenv\n",
    "\n",
    "from langchain_openai import ChatOpenAI\n",
    "from langchain_anthropic import ChatAnthropic\n",
    "\n",
    "\n",
    "_ = load_dotenv()\n",
    "client = OpenAI()\n",
    "\n",
    "class Response(BaseModel):\n",
    "  Recommendation: str\n",
    "  Data: str\n",
    "  Rationale: str\n",
    "\n",
    "response = client.beta.chat.completions.parse(\n",
    "  model=\"gpt-4o-mini\",\n",
    "  messages=[\n",
    "    {\n",
    "      'role': 'user',\n",
    "      'content': 'Which health insurance plan should I pick? I am 40 and generally am healthy. I want a PPO.',\n",
    "    }\n",
    "  ],\n",
    "  response_format=Response\n",
    ")\n"
   ]
  },
  {
   "cell_type": "code",
   "execution_count": 4,
   "id": "ec143b57-cfed-4b94-be81-26cfb1ffa5ff",
   "metadata": {},
   "outputs": [
    {
     "data": {
      "text/plain": [
       "'{\"Recommendation\":\"Choose a PPO plan with a balance of premium costs and out-of-pocket maximums. Look for a plan that offers low co-pays for office visits and reasonable coverage for preventive care.\",\"Data\":\"Consider plans that have a premium in the range of $300-$500 per month and an out-of-pocket maximum between $3,000-$5,000. Make sure the plan covers essential services like primary care, specialists, and emergency services without high co-pays.\",\"Rationale\":\"As a generally healthy individual, you can opt for a PPO plan that has higher premiums but lower out-of-pocket costs. This way, you’ll be covered adequately should any unexpected health needs arise, while still having the flexibility to choose your providers.\"}'"
      ]
     },
     "execution_count": 4,
     "metadata": {},
     "output_type": "execute_result"
    }
   ],
   "source": [
    "response.choices[0].message.content"
   ]
  },
  {
   "cell_type": "code",
   "execution_count": 5,
   "id": "3cfd26c7-2657-4c87-89c9-4f70bc0a95a8",
   "metadata": {},
   "outputs": [
    {
     "data": {
      "text/plain": [
       "ParsedChatCompletion[Response](id='chatcmpl-BOOzDc3ag8nddvDgncEZxdcg1Jcwd', choices=[ParsedChoice[Response](finish_reason='stop', index=0, logprobs=None, message=ParsedChatCompletionMessage[Response](content='{\"Recommendation\":\"Choose a PPO plan with a balance of premium costs and out-of-pocket maximums. Look for a plan that offers low co-pays for office visits and reasonable coverage for preventive care.\",\"Data\":\"Consider plans that have a premium in the range of $300-$500 per month and an out-of-pocket maximum between $3,000-$5,000. Make sure the plan covers essential services like primary care, specialists, and emergency services without high co-pays.\",\"Rationale\":\"As a generally healthy individual, you can opt for a PPO plan that has higher premiums but lower out-of-pocket costs. This way, you’ll be covered adequately should any unexpected health needs arise, while still having the flexibility to choose your providers.\"}', refusal=None, role='assistant', audio=None, function_call=None, tool_calls=None, parsed=Response(Recommendation='Choose a PPO plan with a balance of premium costs and out-of-pocket maximums. Look for a plan that offers low co-pays for office visits and reasonable coverage for preventive care.', Data='Consider plans that have a premium in the range of $300-$500 per month and an out-of-pocket maximum between $3,000-$5,000. Make sure the plan covers essential services like primary care, specialists, and emergency services without high co-pays.', Rationale='As a generally healthy individual, you can opt for a PPO plan that has higher premiums but lower out-of-pocket costs. This way, you’ll be covered adequately should any unexpected health needs arise, while still having the flexibility to choose your providers.'), annotations=[]))], created=1745155619, model='gpt-4o-mini-2024-07-18', object='chat.completion', service_tier='default', system_fingerprint='fp_f7d56a8a2c', usage=CompletionUsage(completion_tokens=150, prompt_tokens=89, total_tokens=239, completion_tokens_details=CompletionTokensDetails(accepted_prediction_tokens=0, audio_tokens=0, reasoning_tokens=0, rejected_prediction_tokens=0), prompt_tokens_details=PromptTokensDetails(audio_tokens=0, cached_tokens=0)))"
      ]
     },
     "execution_count": 5,
     "metadata": {},
     "output_type": "execute_result"
    }
   ],
   "source": [
    "response "
   ]
  },
  {
   "cell_type": "code",
   "execution_count": null,
   "id": "2caa9b7f-2635-4ba3-adce-08d78780fec0",
   "metadata": {},
   "outputs": [],
   "source": []
  }
 ],
 "metadata": {
  "citation-manager": {
   "items": {}
  },
  "kernelspec": {
   "display_name": "Python 3-12 (COMM4190)",
   "language": "python",
   "name": "python3-12_comm4190"
  },
  "language_info": {
   "codemirror_mode": {
    "name": "ipython",
    "version": 3
   },
   "file_extension": ".py",
   "mimetype": "text/x-python",
   "name": "python",
   "nbconvert_exporter": "python",
   "pygments_lexer": "ipython3",
   "version": "3.12.8"
  }
 },
 "nbformat": 4,
 "nbformat_minor": 5
}
