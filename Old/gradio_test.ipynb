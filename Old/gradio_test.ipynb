{
 "cells": [
  {
   "cell_type": "code",
   "execution_count": 7,
   "id": "1168ba8d-99d7-4ac6-a7f8-4edcd920d50a",
   "metadata": {},
   "outputs": [],
   "source": [
    "from langchain import hub\n",
    "from langchain.agents import AgentExecutor, create_openai_tools_agent, load_tools\n",
    "from langchain_openai import ChatOpenAI\n",
    "from gradio import ChatMessage\n",
    "import gradio as gr\n",
    "from langchain_community.tools import DuckDuckGoSearchRun\n",
    "\n",
    "import gradio as gr\n",
    "from gradio import ChatMessage\n",
    "from transformers import Tool, ReactCodeAgent  # type: ignore\n",
    "from transformers.agents import stream_to_gradio, HfApiEngine  # type: ignore\n",
    "\n",
    "from dotenv import load_dotenv\n",
    "\n",
    "load_dotenv()\n",
    "\n",
    "model = ChatOpenAI(temperature=0, streaming=True)\n",
    "\n",
    "search = DuckDuckGoSearchRun()\n",
    "\n",
    "tools = [search] \n",
    "\n",
    "agent = create_openai_tools_agent(\n",
    "    model.with_config({\"tags\": [\"agent_llm\"]}), tools, prompt\n",
    ")\n",
    "agent_executor = AgentExecutor(agent=agent, tools=tools).with_config(\n",
    "    {\"run_name\": \"Agent\"}\n",
    ")"
   ]
  },
  {
   "cell_type": "code",
   "execution_count": 9,
   "id": "6f8e59ae-ef50-438b-a13c-0c4a69c53ec3",
   "metadata": {},
   "outputs": [
    {
     "ename": "NameError",
     "evalue": "name 'input_2' is not defined",
     "output_type": "error",
     "traceback": [
      "\u001b[0;31m---------------------------------------------------------------------------\u001b[0m",
      "\u001b[0;31mNameError\u001b[0m                                 Traceback (most recent call last)",
      "Cell \u001b[0;32mIn[9], line 28\u001b[0m\n\u001b[1;32m     19\u001b[0m     chatbot \u001b[38;5;241m=\u001b[39m gr\u001b[38;5;241m.\u001b[39mChatbot(\n\u001b[1;32m     20\u001b[0m         \u001b[38;5;28mtype\u001b[39m\u001b[38;5;241m=\u001b[39m\u001b[38;5;124m\"\u001b[39m\u001b[38;5;124mmessages\u001b[39m\u001b[38;5;124m\"\u001b[39m,\n\u001b[1;32m     21\u001b[0m         label\u001b[38;5;241m=\u001b[39m\u001b[38;5;124m\"\u001b[39m\u001b[38;5;124mAgent\u001b[39m\u001b[38;5;124m\"\u001b[39m,\n\u001b[0;32m   (...)\u001b[0m\n\u001b[1;32m     25\u001b[0m         ),\n\u001b[1;32m     26\u001b[0m     )\n\u001b[1;32m     27\u001b[0m     \u001b[38;5;28minput\u001b[39m \u001b[38;5;241m=\u001b[39m gr\u001b[38;5;241m.\u001b[39mTextbox(lines\u001b[38;5;241m=\u001b[39m\u001b[38;5;241m1\u001b[39m, label\u001b[38;5;241m=\u001b[39m\u001b[38;5;124m\"\u001b[39m\u001b[38;5;124mChat Message\u001b[39m\u001b[38;5;124m\"\u001b[39m)\n\u001b[0;32m---> 28\u001b[0m     \u001b[38;5;28minput\u001b[39m\u001b[38;5;241m.\u001b[39msubmit(interact_with_langchain_agent, [\u001b[43minput_2\u001b[49m, chatbot_2], [chatbot_2])\n\u001b[1;32m     30\u001b[0m demo\u001b[38;5;241m.\u001b[39mlaunch()\n",
      "\u001b[0;31mNameError\u001b[0m: name 'input_2' is not defined"
     ]
    }
   ],
   "source": [
    "async def interact_with_langchain_agent(prompt, messages):\n",
    "    messages.append(ChatMessage(role=\"user\", content=prompt))\n",
    "    yield messages\n",
    "    async for chunk in agent_executor.astream(\n",
    "        {\"input\": prompt}\n",
    "    ):\n",
    "        if \"steps\" in chunk:\n",
    "            for step in chunk[\"steps\"]:\n",
    "                messages.append(ChatMessage(role=\"assistant\", content=step.action.log,\n",
    "                                  metadata={\"title\": f\"🛠️ Used tool {step.action.tool}\"}))\n",
    "                yield messages\n",
    "        if \"output\" in chunk:\n",
    "            messages.append(ChatMessage(role=\"assistant\", content=chunk[\"output\"]))\n",
    "            yield messages\n",
    "\n",
    "\n",
    "with gr.Blocks() as demo:\n",
    "    gr.Markdown(\"# Chat with a LangChain Agent 🦜⛓️ and see its thoughts 💭\")\n",
    "    chatbot = gr.Chatbot(\n",
    "        type=\"messages\",\n",
    "        label=\"Agent\",\n",
    "        avatar_images=(\n",
    "            None,\n",
    "            \"https://em-content.zobj.net/source/twitter/141/parrot_1f99c.png\",\n",
    "        ),\n",
    "    )\n",
    "    input = gr.Textbox(lines=1, label=\"Chat Message\")\n",
    "    input.submit(interact_with_langchain_agent, [input_2, chatbot_2], [chatbot_2])\n",
    "\n",
    "demo.launch()"
   ]
  },
  {
   "cell_type": "code",
   "execution_count": null,
   "id": "1465dc78-3c96-4961-a20d-42b02048798b",
   "metadata": {},
   "outputs": [],
   "source": []
  }
 ],
 "metadata": {
  "citation-manager": {
   "items": {}
  },
  "kernelspec": {
   "display_name": "Python 3-12 (COMM4190)",
   "language": "python",
   "name": "python3-12_comm4190"
  },
  "language_info": {
   "codemirror_mode": {
    "name": "ipython",
    "version": 3
   },
   "file_extension": ".py",
   "mimetype": "text/x-python",
   "name": "python",
   "nbconvert_exporter": "python",
   "pygments_lexer": "ipython3",
   "version": "3.12.8"
  }
 },
 "nbformat": 4,
 "nbformat_minor": 5
}
