{
 "cells": [
  {
   "cell_type": "markdown",
   "id": "577df5b7-90e0-42ef-92b0-80a7509c90bd",
   "metadata": {},
   "source": [
    "### User Scenarios ###\n",
    "Here are some Mermaid diagrams that show how HealthPlan Helper should act in different scenarios. \n",
    "\n",
    "#### Scenario 1: The Full Experience #### \n",
    "This occurs when a user's main question is \"Which healthcare plan should I pick?\" and is willing to provide all documents and relevant information to help HealthPlan Helper perform its analysis. "
   ]
  },
  {
   "cell_type": "code",
   "execution_count": 4,
   "id": "3aff6f32-b2f3-4a38-89a1-2e7f70491116",
   "metadata": {},
   "outputs": [],
   "source": [
    "import sys\n",
    "import base64\n",
    "import zlib\n",
    "from IPython.display import Image,display,SVG\n",
    "\n",
    "def mm(diagram):\n",
    "    encoded_diagram = base64.urlsafe_b64encode(zlib.compress(diagram.encode('utf-8'), 9)).decode('ascii')\n",
    "    dia_url = f'https://kroki.io/mermaid/svg/{encoded_diagram}'\n",
    "    display(Image(url=dia_url))"
   ]
  },
  {
   "cell_type": "code",
   "execution_count": 5,
   "id": "28d38c60-70ad-4376-b80f-1568d84df983",
   "metadata": {},
   "outputs": [
    {
     "data": {
      "text/html": [
       "<img src=\"https://kroki.io/mermaid/svg/eNptjkluAkEMRfd9in-BiH0viBCgZJMQMRzAMSZdoqbYXUHcPtUlJRIC7_ztZ7_O5LtIZFk5-lIKHWpl0tGxyxRHHHbr7V24eFm_7-_S1WZ5eKuDXddGE_k0n7fdHkuKuKaCQXxGEGTHZ1BtyY8Dk9bEU3xuZEMqOl3osbCzoUra6FI0UDxC5SQ6WRs-NfFQVGxmJQRSJ_bg-4emH3eUibaLqOHmz794j9d0QSg8YDLilOlqt05_B0VPSYOByXPx1NweyO_F-ypZ5cFDcixt5xcf7nR7\"/>"
      ],
      "text/plain": [
       "<IPython.core.display.Image object>"
      ]
     },
     "metadata": {},
     "output_type": "display_data"
    }
   ],
   "source": [
    "full_exp = '''\n",
    "sequenceDiagram\n",
    "    participant USER\n",
    "    participant AGENT\n",
    "    participant DOCUMENTS\n",
    "\n",
    "    USER->>AGENT: Can you help me pick a healthcare plan?\n",
    "    AGENT->>USER: Asks questions and references brochures/summaries\n",
    "    USER->>AGENT: Provides answers \n",
    "    AGENT->>DOCUMENTS: How much are copays?\n",
    "    AGENT->>AGENT: Performs calculations\n",
    "    AGENT->>USER: Tells best choice\n",
    "    '''\n",
    "\n",
    "mm(full_exp)"
   ]
  },
  {
   "cell_type": "markdown",
   "id": "ef8a90a1-113f-4d00-b8fe-ea5d4bf185d9",
   "metadata": {},
   "source": [
    "#### Scenario 2: General Healthcare Questions #### \n",
    "HealthPlan Helper can also answer general questions about the healthcare system. "
   ]
  },
  {
   "cell_type": "code",
   "execution_count": 6,
   "id": "a25ad4eb-2739-4eaa-98c8-091ff8e0fce7",
   "metadata": {},
   "outputs": [
    {
     "data": {
      "text/html": [
       "<img src=\"https://kroki.io/mermaid/svg/eNqdksFOwkAQhu88xXhCE-UBeoAYIHCBEpEYj2M70A3tbtnZhdSnd3bVGmm92GQPne38_zf_dMB08qQzmik8WKwGIE-N1qlM1agd7Lbzp07xcTFfP3eqs3S6W8nFtnvjs2M4CzOId0H0YTyOMgm8FOhAMbiCIFf7PdkABG_kLkQaEDabFFDnsFylUJeoJ1EkdovKj3gCU9TQGA-1NWeVk_SeyTbAqqpLAvZVhfJq9n95XTvxb6vAncDWW7qBpbQOud8hiQK3S8LSFbBCpR1pDEapPaBW7-iU0XcJvApr5dlBVhjDgmQyZyyD0pFQC5axx4jk2WNZNlKjXFwtCbvFEpwBpjAp15QpLBW70WjUgz0zFDKWrGWuC9kQlAXZPgeYSc9ivjqojQOqBkgGNY20m5AeC8jJK0stEPcRXW3s-0dpLWT7rcc_BD8HXJt7UE4yJNZDFz_4APo78Bg=\"/>"
      ],
      "text/plain": [
       "<IPython.core.display.Image object>"
      ]
     },
     "metadata": {},
     "output_type": "display_data"
    }
   ],
   "source": [
    "gen_q = '''\n",
    "sequenceDiagram\n",
    "    participant USER\n",
    "    participant AGENT\n",
    "    participant DOCUMENTS\n",
    "    participant DuckDuckGo\n",
    "\n",
    "    USER->>AGENT: What is the difference between a PPO and HMO plan?\n",
    "    AGENT->>DuckDuckGo: Can you provide a very simple summary of the difference between PPO and HMO plans?\n",
    "    AGENT->>USER: Sure! Here's a very simple summary: HMO (Health Maintenance Organization): You must choose doctors in the network and usually need a referral to see a specialist...\n",
    "    AGENT->>USER: Does that answer your question?\n",
    "    USER->>AGENT: Does the HMO plan my employer offers require referrals to see a specialist?\n",
    "    AGENT->>DOCUMENTS: Does this HMO plan require referrals to see a specialist?\n",
    "    AGENT->>USER: No, it doesn't\n",
    "    '''\n",
    "\n",
    "mm(gen_q)"
   ]
  },
  {
   "cell_type": "markdown",
   "id": "e10443e3-bf26-443c-a9b5-1af18d757bcf",
   "metadata": {},
   "source": [
    "#### Scenario 3: Specific Plan Questions #### \n",
    "Finally, a user might want to better understand the details of specific healthcare plans."
   ]
  },
  {
   "cell_type": "code",
   "execution_count": 7,
   "id": "e9544e19-5425-407b-88bb-f4eb92449287",
   "metadata": {},
   "outputs": [
    {
     "data": {
      "text/html": [
       "<img src=\"https://kroki.io/mermaid/svg/eNqVkMFuwjAQRO_5ijn02ipVD5U4ENEmAiRooqSoZ-MsxFISB8cOyt_XNlXVFgSqT6vd9cybDXo6GGo5xYLtFWsC2NcxpQUXHWs1NkWSnzVn8-Tt_awbp6-btR0UgR-5n_fTqd-dYCGPaAyvcJSmLqErApcdG7El7KQCa2HUnqwMZ4owiF7oCAuytejRjOhqu7JVkldG0YN38NLWwjlN8FEJK-_XSolRGlRsoOgCC5Z-5FRfakOYcU59jyxLUYh6IIXnMAx_e3yHc0ZMOyiX4SfzKY8Lc104ugB_9xiGt68mtDuX2PkAJbI8WS-THPN0FeOP7L94rwl98T2d8D4BgSmmIw==\"/>"
      ],
      "text/plain": [
       "<IPython.core.display.Image object>"
      ]
     },
     "metadata": {},
     "output_type": "display_data"
    }
   ],
   "source": [
    "plan_q = '''\n",
    "sequenceDiagram\n",
    "    participant USER\n",
    "    participant AGENT\n",
    "    participant DOCUMENTS\n",
    "\n",
    "    USER->>AGENT: How much would the copay be for an urgent care visit? Here is my plan brochure.\n",
    "    AGENT->>USER: Which plan do you have?\n",
    "    USER->>AGENT:  I have my Blue Access PPO Silver 7000.\n",
    "    AGENT->>DOCUMENTS: What is the urgent care copay for my Blue Access PPO Silver 7000?\n",
    "    AGENT->>USER: $100\n",
    "    USER->>AGENT: How much would it be if I had PREMIER GOLD 0?\n",
    "    AGENT->>DOCUMENTS: What is the urgent care copay for PREMIER GOLD 0?\n",
    "    AGENT->>USER: $30\n",
    "    '''\n",
    "\n",
    "mm(plan_q)"
   ]
  },
  {
   "cell_type": "code",
   "execution_count": null,
   "id": "5a956f2a-1812-4e6a-858d-2d96fcc66d37",
   "metadata": {},
   "outputs": [],
   "source": []
  }
 ],
 "metadata": {
  "citation-manager": {
   "items": {}
  },
  "kernelspec": {
   "display_name": "Python 3-12 (COMM4190)",
   "language": "python",
   "name": "python3-12_comm4190"
  },
  "language_info": {
   "codemirror_mode": {
    "name": "ipython",
    "version": 3
   },
   "file_extension": ".py",
   "mimetype": "text/x-python",
   "name": "python",
   "nbconvert_exporter": "python",
   "pygments_lexer": "ipython3",
   "version": "3.12.8"
  }
 },
 "nbformat": 4,
 "nbformat_minor": 5
}
