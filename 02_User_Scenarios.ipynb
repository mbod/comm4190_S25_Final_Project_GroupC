{
 "cells": [
  {
   "cell_type": "markdown",
   "id": "577df5b7-90e0-42ef-92b0-80a7509c90bd",
   "metadata": {},
   "source": [
    "### User Scenarios ###\n",
    "Here are some Mermaid diagrams that show how HealthPlan Helper should act in different scenarios. \n",
    "\n",
    "#### Scenario 1: The Full Experience #### \n",
    "This occurs when a user's main question is \"Which healthcare plan should I pick?\" and is willing to provide all documents and relevant information to help HealthPlan Helper perform its analysis. "
   ]
  },
  {
   "cell_type": "markdown",
   "id": "6064be3f-d77f-4c7a-abf9-8edb2588e7cb",
   "metadata": {},
   "source": [
    "```mermaid\n",
    "sequenceDiagram\n",
    "    participant USER\n",
    "    participant AGENT\n",
    "    participant DOCUMENTS\n",
    "\n",
    "    USER->>AGENT: Can you help me pick a healthcare plan?\n",
    "    AGENT->>USER: Asks questions and references brochures/summaries\n",
    "    USER->>AGENT: Provides answers \n",
    "    AGENT->>DOCUMENTS: How much are copays?\n",
    "    AGENT->>AGENT: Performs calculations\n",
    "    AGENT->>USER: Tells best choice\n",
    "```"
   ]
  },
  {
   "cell_type": "markdown",
   "id": "ef8a90a1-113f-4d00-b8fe-ea5d4bf185d9",
   "metadata": {},
   "source": [
    "\n",
    "#### Scenario 2: General Healthcare Questions #### \n",
    "HealthPlan Helper can also answer general questions about the healthcare system. "
   ]
  },
  {
   "cell_type": "markdown",
   "id": "71f18917-a232-4257-ad95-9e331615e677",
   "metadata": {},
   "source": [
    "```mermaid\n",
    "sequenceDiagram\n",
    "    participant USER\n",
    "    participant AGENT\n",
    "    participant DOCUMENTS\n",
    "    participant DuckDuckGo\n",
    "\n",
    "    USER->>AGENT: What is the difference between a PPO and HMO plan?\n",
    "    AGENT->>DuckDuckGo: Can you provide a very simple summary of the difference between PPO and HMO plans?\n",
    "    AGENT->>USER: Sure! Here's a very simple summary: HMO (Health Maintenance Organization): You must choose doctors in the network and usually need a referral to see a specialist...\n",
    "    AGENT->>USER: Does that answer your question?\n",
    "    USER->>AGENT: Does the HMO plan my employer offers require referrals to see a specialist?\n",
    "    AGENT->>DOCUMENTS: Does this HMO plan require referrals to see a specialist?\n",
    "    AGENT->>USER: No, it doesn't\n",
    "```"
   ]
  },
  {
   "cell_type": "markdown",
   "id": "e10443e3-bf26-443c-a9b5-1af18d757bcf",
   "metadata": {},
   "source": [
    "#### Scenario 3: Specific Plan Questions #### \n",
    "Finally, a user might want to better understand the details of specific healthcare plans."
   ]
  },
  {
   "cell_type": "markdown",
   "id": "fee16b3e-33cd-4715-9ebb-48c4e441a995",
   "metadata": {},
   "source": [
    "```mermaid\n",
    "sequenceDiagram\n",
    "    participant USER\n",
    "    participant AGENT\n",
    "    participant DOCUMENTS\n",
    "\n",
    "    USER->>AGENT: How much would the copay be for an urgent care visit? Here is my plan brochure.\n",
    "    AGENT->>USER: Which plan do you have?\n",
    "    USER->>AGENT:  I have my Blue Access PPO Silver 7000.\n",
    "    AGENT->>DOCUMENTS: What is the urgent care copay for my Blue Access PPO Silver 7000?\n",
    "    AGENT->>USER: $100\n",
    "    USER->>AGENT: How much would it be if I had PREMIER GOLD 0?\n",
    "    AGENT->>DOCUMENTS: What is the urgent care copay for PREMIER GOLD 0?\n",
    "    AGENT->>USER: $30\n",
    "```"
   ]
  },
  {
   "cell_type": "markdown",
   "id": "efba659c-b1b3-4c9a-9f81-c5987ed47f65",
   "metadata": {},
   "source": [
    "```{mermaid}\n",
    "flowchart LR\n",
    "  A[1. Generate simple Stata code] --> B[2. Make it harder to understand]\n",
    "  B --> C[3. Translate to R in the simplest way possible]\n",
    "  C --> D[4. Translate back to Stata]\n",
    "```"
   ]
  }
 ],
 "metadata": {
  "citation-manager": {
   "items": {}
  },
  "kernelspec": {
   "display_name": "Python 3-12 (COMM4190)",
   "language": "python",
   "name": "python3-12_comm4190"
  },
  "language_info": {
   "codemirror_mode": {
    "name": "ipython",
    "version": 3
   },
   "file_extension": ".py",
   "mimetype": "text/x-python",
   "name": "python",
   "nbconvert_exporter": "python",
   "pygments_lexer": "ipython3",
   "version": "3.12.8"
  }
 },
 "nbformat": 4,
 "nbformat_minor": 5
}
