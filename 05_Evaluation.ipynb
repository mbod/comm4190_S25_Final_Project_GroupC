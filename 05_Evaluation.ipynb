{
 "cells": [
  {
   "cell_type": "markdown",
   "id": "10b82423-1f21-46cd-acaa-d10ddfeb9e2c",
   "metadata": {},
   "source": [
    "### Evaluation ###\n",
    "\n",
    "Finally, it's time to test out the user scenarios on the completed agent and see how it does. Let's activate the agent and then get testing!"
   ]
  },
  {
   "cell_type": "code",
   "execution_count": 2,
   "id": "3ece5705-031c-4810-993f-040c27e86d2f",
   "metadata": {},
   "outputs": [],
   "source": [
    "from pydantic import BaseModel, Field\n",
    "from typing_extensions import TypedDict\n",
    "from typing_extensions import Literal\n",
    "from langchain.agents import AgentExecutor, create_openai_tools_agent, load_tools\n",
    "from langchain_openai import ChatOpenAI\n",
    "from langchain_core.tools import tool\n",
    "from langchain_core.messages import SystemMessage, HumanMessage, ToolMessage, AIMessage\n",
    "import urllib\n",
    "from langchain_community.tools import DuckDuckGoSearchRun\n",
    "from langgraph.graph import MessagesState\n",
    "from langgraph.graph import StateGraph, START, END\n",
    "from langgraph.func import entrypoint, task\n",
    "from pydantic import BaseModel, ValidationError\n",
    "\n",
    "from IPython.display import Image, display\n",
    "from langchain.document_loaders import PyPDFLoader\n",
    "from langchain.vectorstores import Chroma\n",
    "from langchain_openai import OpenAIEmbeddings\n",
    "from langchain.tools.retriever import create_retriever_tool\n",
    "from langchain.agents import initialize_agent, AgentType\n",
    "from langchain.agents import Tool\n",
    "\n",
    "import gradio as gr\n",
    "from langchain_core.prompts import ChatPromptTemplate, MessagesPlaceholder\n",
    "from langchain_core.output_parsers import StrOutputParser\n",
    "from langchain_google_genai import ChatGoogleGenerativeAI\n",
    "from langchain_openai import ChatOpenAI\n",
    "from langchain.globals import set_debug\n",
    "\n",
    "import json\n",
    "\n",
    "from dotenv import load_dotenv\n",
    "_ = load_dotenv()\n",
    "\n",
    "set_debug(False)"
   ]
  },
  {
   "cell_type": "code",
   "execution_count": 3,
   "id": "c92a1759-7a6f-4f1b-89f2-963910fc7d61",
   "metadata": {},
   "outputs": [],
   "source": [
    "## Selecting LLM - I'm using gpt-4\n",
    "llm = ChatOpenAI(model=\"gpt-4\")\n",
    "\n",
    "# Reading in BCBS plan brochure\n",
    "loader = PyPDFLoader(\"bcbs_brochure.pdf\")\n",
    "docs = loader.load()\n",
    "\n",
    "embeddings = OpenAIEmbeddings()\n",
    "vectorstore = Chroma.from_documents(docs, embeddings)\n",
    "retriever = vectorstore.as_retriever()\n",
    "\n",
    "# Define tools\n",
    "# Tool 1: Internet search\n",
    "search = DuckDuckGoSearchRun()\n",
    "\n",
    "# Tool 2: reading the BCBS brochure \n",
    "rag = create_retriever_tool(\n",
    "    retriever=retriever,\n",
    "    name=\"document_rag\",\n",
    "    description=\"\"\" Answers questions using the content of bcbs_brochure.pdf. \n",
    "    It contains information about Blue Cross Blue Shield healthcare plans.\n",
    "    \"\"\"\n",
    ")\n",
    "\n",
    "# Augment the LLM with tools\n",
    "tools = [search, rag]\n",
    "tools_by_name = {tool.name: tool for tool in tools}\n",
    "llm_with_tools = llm.bind_tools(tools)\n",
    "\n",
    "agent_prompt = '''\n",
    "\n",
    "You are HealthPlan Helper, a friendly and focused assistant whose goal is to help users navigate the complex U.S. healthcare system. \n",
    "Many users are overwhelmed or confused, so keep your tone calm, clear, and supportive.\n",
    "\n",
    "Your main tasks include:\n",
    " 1. Helping users choose a healthcare plan by walking them through a step-by-step process:\n",
    "  - Introduce yourself.\n",
    "  - Ask about their age, health conditions, and past/future healthcare usage.\n",
    "  - Reference their insurance plan brochures.\n",
    "  - Estimate next year's healthcare usage (include some uncertainty).\n",
    "  - Help compare 2 plans based on usage, deductibles, and costs.\n",
    "  - Explain your reasoning in simple terms.\n",
    "  - Ask if they have follow-up questions.\n",
    "\n",
    " 2. Helping with partial tasks:\n",
    "  - Be flexible! Users may only want help estimating usage, understanding one plan, or just asking general questions about the healthcare system.\n",
    "\n",
    "3. Answering general healthcare system questions:\n",
    "   - Use DuckDuckGo or retrieved documents to explain things like deductibles, coinsurance, Medicaid, open enrollment, etc.\n",
    "\n",
    "Capabilities:\n",
    " - Reference documents to support answers.\n",
    " - Use RAG and web search when needed.\n",
    " - Stay on topic.\n",
    " - Match the user’s tone (e.g. formal, casual, anxious, confident).\n",
    " - Be patient, thorough, and nonjudgmental.\n",
    "\n",
    "Always start by gently asking what kind of help the user wants. Let them guide the depth of the conversation.\n",
    "\n",
    "Rule: YOU WILL ONLY TALK ABOUT HEALTHCARE.\n",
    "\n",
    "Rule: YOU WILL ONLY ASK ONE QUESTION AT A TIME, WAITING FOR THE USER TO RESPOND UNTIL ASKING THE NEXT ONE.\n",
    "'''"
   ]
  },
  {
   "cell_type": "code",
   "execution_count": 4,
   "id": "7cfeca85-2948-4a2b-8943-0a432c19056a",
   "metadata": {},
   "outputs": [
    {
     "data": {
      "image/png": "[encoded data removed]",
      "text/plain": [
       "<IPython.core.display.Image object>"
      ]
     },
     "metadata": {},
     "output_type": "display_data"
    }
   ],
   "source": [
    "# Define the agent \n",
    "def Agent(state: MessagesState):\n",
    "    \"\"\"LLM decides whether to call a tool or not\"\"\"\n",
    "\n",
    "    return {\n",
    "        \"messages\": [\n",
    "            llm_with_tools.invoke(\n",
    "                [\n",
    "                    SystemMessage(\n",
    "                        content= agent_prompt\n",
    "                    )\n",
    "                ]\n",
    "                + state[\"messages\"]\n",
    "            )\n",
    "        ]\n",
    "    }\n",
    "\n",
    "\n",
    "def tool_node(state: dict):\n",
    "    \"\"\"Performs the tool call\"\"\"\n",
    "\n",
    "    result = []\n",
    "    for tool_call in state[\"messages\"][-1].tool_calls:\n",
    "        tool = tools_by_name[tool_call[\"name\"]]\n",
    "        observation = tool.invoke(tool_call[\"args\"])\n",
    "        result.append(ToolMessage(content=observation, tool_call_id=tool_call[\"id\"]))\n",
    "    return {\"messages\": result}\n",
    "\n",
    "\n",
    "def should_continue(state: MessagesState) -> Literal[\"Tools\", END]:\n",
    "    \"\"\"Decide if we should continue the loop or stop based upon whether the LLM made a tool call\"\"\"\n",
    "\n",
    "    messages = state[\"messages\"]\n",
    "    last_message = messages[-1]\n",
    "    if last_message.tool_calls:\n",
    "        return \"Action\"\n",
    "    return END\n",
    "\n",
    "\n",
    "# Build workflow\n",
    "agent_builder = StateGraph(MessagesState)\n",
    "\n",
    "# Add nodes\n",
    "agent_builder.add_node(\"Agent\", Agent)\n",
    "agent_builder.add_node(\"Tools\", tool_node)\n",
    "\n",
    "# Add edges to connect nodes\n",
    "agent_builder.add_edge(START, \"Agent\")\n",
    "agent_builder.add_conditional_edges(\n",
    "    \"Agent\",\n",
    "    should_continue,\n",
    "    {\n",
    "        \"Action\": \"Tools\",\n",
    "        END: END,\n",
    "    },\n",
    ")\n",
    "agent_builder.add_edge(\"Tools\", \"Agent\")\n",
    "\n",
    "# Compile the agent\n",
    "agent = agent_builder.compile()\n",
    "\n",
    "# Show the agent\n",
    "display(Image(agent.get_graph(xray=True).draw_mermaid_png()))\n",
    "\n",
    "def chat_fn(message, history):\n",
    "\n",
    "    print(f'----\\n{message}\\n----\\n{json.dumps(history,indent=4)}')\n",
    "    response = chain.invoke(\n",
    "        {\"input\": message, \"chat_history\": history}\n",
    "    )\n",
    "    return response\n",
    "\n",
    "def chat_fn(messages, history):    \n",
    "    print(f\"--- Turn Start ---\")\n",
    "    print(f\"Gradio messages: {messages}\")\n",
    "    print(f\"Gradio history: {json.dumps(history, indent=2)}\") # Pretty print history\n",
    "\n",
    "    user_input = messages\n",
    "\n",
    "    chat_history = [HumanMessage(m[\"content\"]) if m[\"role\"] == \"user\" else AIMessage(m[\"content\"]) for m in history]\n",
    "\n",
    "    result = agent.invoke({\"messages\": chat_history + [HumanMessage(user_input)]})\n",
    "\n",
    "    assistant_message = result[\"messages\"][-1].content\n",
    "    return assistant_message\n",
    "\n",
    "app = gr.ChatInterface(\n",
    "    fn=chat_fn,\n",
    "    type=\"messages\"\n",
    ")"
   ]
  },
  {
   "cell_type": "markdown",
   "id": "3b20b54c-81ee-4b41-b4b7-02cf1b835c46",
   "metadata": {},
   "source": [
    "#### User Scenario 1: The Full Experience ####"
   ]
  },
  {
   "cell_type": "code",
   "execution_count": 5,
   "id": "d1e8cc32-c6df-4599-9dba-48918881ee93",
   "metadata": {},
   "outputs": [
    {
     "name": "stdout",
     "output_type": "stream",
     "text": [
      "* Running on local URL:  http://127.0.0.1:7866\n",
      "* Running on public URL: https://19a0966ae37247d49c.gradio.live\n",
      "\n",
      "This share link expires in 72 hours. For free permanent hosting and GPU upgrades, run `gradio deploy` from the terminal in the working directory to deploy to Hugging Face Spaces (https://huggingface.co/spaces)\n"
     ]
    },
    {
     "data": {
      "text/html": [
       "<div><iframe src=\"https://19a0966ae37247d49c.gradio.live\" width=\"100%\" height=\"500\" allow=\"autoplay; camera; microphone; clipboard-read; clipboard-write;\" frameborder=\"0\" allowfullscreen></iframe></div>"
      ],
      "text/plain": [
       "<IPython.core.display.HTML object>"
      ]
     },
     "metadata": {},
     "output_type": "display_data"
    },
    {
     "data": {
      "text/plain": []
     },
     "execution_count": 5,
     "metadata": {},
     "output_type": "execute_result"
    },
    {
     "name": "stdout",
     "output_type": "stream",
     "text": [
      "--- Turn Start ---\n",
      "Gradio messages: Hi! Can you help me pick an insurance plan? \n",
      "Gradio history: []\n",
      "--- Turn Start ---\n",
      "Gradio messages: I am 50 years old and have several pretty complicated skin issues. \n",
      "Gradio history: [\n",
      "  {\n",
      "    \"role\": \"user\",\n",
      "    \"metadata\": {\n",
      "      \"title\": null,\n",
      "      \"id\": null,\n",
      "      \"parent_id\": null,\n",
      "      \"duration\": null,\n",
      "      \"status\": null\n",
      "    },\n",
      "    \"content\": \"Hi! Can you help me pick an insurance plan? \",\n",
      "    \"options\": null\n",
      "  },\n",
      "  {\n",
      "    \"role\": \"assistant\",\n",
      "    \"metadata\": {\n",
      "      \"title\": null,\n",
      "      \"id\": null,\n",
      "      \"parent_id\": null,\n",
      "      \"duration\": null,\n",
      "      \"status\": null\n",
      "    },\n",
      "    \"content\": \"Of course! I'll be happy to assist you in picking an insurance plan. \\n\\nFirst, could you give me some basic information? It would be helpful to know your age, if you have any ongoing medical conditions, and how often you generally need medical attention. This will help us estimate your potential healthcare usage for the next year.\",\n",
      "    \"options\": null\n",
      "  }\n",
      "]\n",
      "--- Turn Start ---\n",
      "Gradio messages: I need to go to the doctor every 2 weeks for my condition.\n",
      "Gradio history: [\n",
      "  {\n",
      "    \"role\": \"user\",\n",
      "    \"metadata\": {\n",
      "      \"title\": null,\n",
      "      \"id\": null,\n",
      "      \"parent_id\": null,\n",
      "      \"duration\": null,\n",
      "      \"status\": null\n",
      "    },\n",
      "    \"content\": \"Hi! Can you help me pick an insurance plan? \",\n",
      "    \"options\": null\n",
      "  },\n",
      "  {\n",
      "    \"role\": \"assistant\",\n",
      "    \"metadata\": {\n",
      "      \"title\": null,\n",
      "      \"id\": null,\n",
      "      \"parent_id\": null,\n",
      "      \"duration\": null,\n",
      "      \"status\": null\n",
      "    },\n",
      "    \"content\": \"Of course! I'll be happy to assist you in picking an insurance plan. \\n\\nFirst, could you give me some basic information? It would be helpful to know your age, if you have any ongoing medical conditions, and how often you generally need medical attention. This will help us estimate your potential healthcare usage for the next year.\",\n",
      "    \"options\": null\n",
      "  },\n",
      "  {\n",
      "    \"role\": \"user\",\n",
      "    \"metadata\": {\n",
      "      \"title\": null,\n",
      "      \"id\": null,\n",
      "      \"parent_id\": null,\n",
      "      \"duration\": null,\n",
      "      \"status\": null\n",
      "    },\n",
      "    \"content\": \"I am 50 years old and have several pretty complicated skin issues. \",\n",
      "    \"options\": null\n",
      "  },\n",
      "  {\n",
      "    \"role\": \"assistant\",\n",
      "    \"metadata\": {\n",
      "      \"title\": null,\n",
      "      \"id\": null,\n",
      "      \"parent_id\": null,\n",
      "      \"duration\": null,\n",
      "      \"status\": null\n",
      "    },\n",
      "    \"content\": \"Thank you for sharing that information. It's really useful in helping us guide you toward the right insurance plan. \\n\\nGiven you have some skin conditions that require attention, it's likely that you'll need consistent medical care. \\n\\nDo you know how often you visit the doctor for these conditions in a typical year? Additionally, do these conditions ever require hospitalization or specialized treatments? Please share as much as you feel comfortable.\",\n",
      "    \"options\": null\n",
      "  }\n",
      "]\n",
      "--- Turn Start ---\n",
      "Gradio messages: I need regular prescriptions, but I don't feel comfortable sharing what they are. Can we move on? \n",
      "Gradio history: [\n",
      "  {\n",
      "    \"role\": \"user\",\n",
      "    \"metadata\": {\n",
      "      \"title\": null,\n",
      "      \"id\": null,\n",
      "      \"parent_id\": null,\n",
      "      \"duration\": null,\n",
      "      \"status\": null\n",
      "    },\n",
      "    \"content\": \"Hi! Can you help me pick an insurance plan? \",\n",
      "    \"options\": null\n",
      "  },\n",
      "  {\n",
      "    \"role\": \"assistant\",\n",
      "    \"metadata\": {\n",
      "      \"title\": null,\n",
      "      \"id\": null,\n",
      "      \"parent_id\": null,\n",
      "      \"duration\": null,\n",
      "      \"status\": null\n",
      "    },\n",
      "    \"content\": \"Of course! I'll be happy to assist you in picking an insurance plan. \\n\\nFirst, could you give me some basic information? It would be helpful to know your age, if you have any ongoing medical conditions, and how often you generally need medical attention. This will help us estimate your potential healthcare usage for the next year.\",\n",
      "    \"options\": null\n",
      "  },\n",
      "  {\n",
      "    \"role\": \"user\",\n",
      "    \"metadata\": {\n",
      "      \"title\": null,\n",
      "      \"id\": null,\n",
      "      \"parent_id\": null,\n",
      "      \"duration\": null,\n",
      "      \"status\": null\n",
      "    },\n",
      "    \"content\": \"I am 50 years old and have several pretty complicated skin issues. \",\n",
      "    \"options\": null\n",
      "  },\n",
      "  {\n",
      "    \"role\": \"assistant\",\n",
      "    \"metadata\": {\n",
      "      \"title\": null,\n",
      "      \"id\": null,\n",
      "      \"parent_id\": null,\n",
      "      \"duration\": null,\n",
      "      \"status\": null\n",
      "    },\n",
      "    \"content\": \"Thank you for sharing that information. It's really useful in helping us guide you toward the right insurance plan. \\n\\nGiven you have some skin conditions that require attention, it's likely that you'll need consistent medical care. \\n\\nDo you know how often you visit the doctor for these conditions in a typical year? Additionally, do these conditions ever require hospitalization or specialized treatments? Please share as much as you feel comfortable.\",\n",
      "    \"options\": null\n",
      "  },\n",
      "  {\n",
      "    \"role\": \"user\",\n",
      "    \"metadata\": {\n",
      "      \"title\": null,\n",
      "      \"id\": null,\n",
      "      \"parent_id\": null,\n",
      "      \"duration\": null,\n",
      "      \"status\": null\n",
      "    },\n",
      "    \"content\": \"I need to go to the doctor every 2 weeks for my condition.\",\n",
      "    \"options\": null\n",
      "  },\n",
      "  {\n",
      "    \"role\": \"assistant\",\n",
      "    \"metadata\": {\n",
      "      \"title\": null,\n",
      "      \"id\": null,\n",
      "      \"parent_id\": null,\n",
      "      \"duration\": null,\n",
      "      \"status\": null\n",
      "    },\n",
      "    \"content\": \"Thank you for providing those details. Regular doctor visits are an important factor in determining the best insurance plan for you. \\n\\nNext, could you also tell me if your condition requires you to take prescription medications regularly or undergo any specialized treatments? This may include things like therapies, surgeries, or other procedures.\",\n",
      "    \"options\": null\n",
      "  }\n",
      "]\n",
      "--- Turn Start ---\n",
      "Gradio messages: You have access to the brochure I have. \n",
      "Gradio history: [\n",
      "  {\n",
      "    \"role\": \"user\",\n",
      "    \"metadata\": {\n",
      "      \"title\": null,\n",
      "      \"id\": null,\n",
      "      \"parent_id\": null,\n",
      "      \"duration\": null,\n",
      "      \"status\": null\n",
      "    },\n",
      "    \"content\": \"Hi! Can you help me pick an insurance plan? \",\n",
      "    \"options\": null\n",
      "  },\n",
      "  {\n",
      "    \"role\": \"assistant\",\n",
      "    \"metadata\": {\n",
      "      \"title\": null,\n",
      "      \"id\": null,\n",
      "      \"parent_id\": null,\n",
      "      \"duration\": null,\n",
      "      \"status\": null\n",
      "    },\n",
      "    \"content\": \"Of course! I'll be happy to assist you in picking an insurance plan. \\n\\nFirst, could you give me some basic information? It would be helpful to know your age, if you have any ongoing medical conditions, and how often you generally need medical attention. This will help us estimate your potential healthcare usage for the next year.\",\n",
      "    \"options\": null\n",
      "  },\n",
      "  {\n",
      "    \"role\": \"user\",\n",
      "    \"metadata\": {\n",
      "      \"title\": null,\n",
      "      \"id\": null,\n",
      "      \"parent_id\": null,\n",
      "      \"duration\": null,\n",
      "      \"status\": null\n",
      "    },\n",
      "    \"content\": \"I am 50 years old and have several pretty complicated skin issues. \",\n",
      "    \"options\": null\n",
      "  },\n",
      "  {\n",
      "    \"role\": \"assistant\",\n",
      "    \"metadata\": {\n",
      "      \"title\": null,\n",
      "      \"id\": null,\n",
      "      \"parent_id\": null,\n",
      "      \"duration\": null,\n",
      "      \"status\": null\n",
      "    },\n",
      "    \"content\": \"Thank you for sharing that information. It's really useful in helping us guide you toward the right insurance plan. \\n\\nGiven you have some skin conditions that require attention, it's likely that you'll need consistent medical care. \\n\\nDo you know how often you visit the doctor for these conditions in a typical year? Additionally, do these conditions ever require hospitalization or specialized treatments? Please share as much as you feel comfortable.\",\n",
      "    \"options\": null\n",
      "  },\n",
      "  {\n",
      "    \"role\": \"user\",\n",
      "    \"metadata\": {\n",
      "      \"title\": null,\n",
      "      \"id\": null,\n",
      "      \"parent_id\": null,\n",
      "      \"duration\": null,\n",
      "      \"status\": null\n",
      "    },\n",
      "    \"content\": \"I need to go to the doctor every 2 weeks for my condition.\",\n",
      "    \"options\": null\n",
      "  },\n",
      "  {\n",
      "    \"role\": \"assistant\",\n",
      "    \"metadata\": {\n",
      "      \"title\": null,\n",
      "      \"id\": null,\n",
      "      \"parent_id\": null,\n",
      "      \"duration\": null,\n",
      "      \"status\": null\n",
      "    },\n",
      "    \"content\": \"Thank you for providing those details. Regular doctor visits are an important factor in determining the best insurance plan for you. \\n\\nNext, could you also tell me if your condition requires you to take prescription medications regularly or undergo any specialized treatments? This may include things like therapies, surgeries, or other procedures.\",\n",
      "    \"options\": null\n",
      "  },\n",
      "  {\n",
      "    \"role\": \"user\",\n",
      "    \"metadata\": {\n",
      "      \"title\": null,\n",
      "      \"id\": null,\n",
      "      \"parent_id\": null,\n",
      "      \"duration\": null,\n",
      "      \"status\": null\n",
      "    },\n",
      "    \"content\": \"I need regular prescriptions, but I don't feel comfortable sharing what they are. Can we move on? \",\n",
      "    \"options\": null\n",
      "  },\n",
      "  {\n",
      "    \"role\": \"assistant\",\n",
      "    \"metadata\": {\n",
      "      \"title\": null,\n",
      "      \"id\": null,\n",
      "      \"parent_id\": null,\n",
      "      \"duration\": null,\n",
      "      \"status\": null\n",
      "    },\n",
      "    \"content\": \"Of course, we respect your privacy. You've provided great information thus far.\\n\\nNow, let's apply what we've learned to help choose your health care plan. Could we discuss options from a specific insurance provider that you're considering, or are you open to information from any provider? We can also walk through an example plan as a way to better explain things.\",\n",
      "    \"options\": null\n",
      "  }\n",
      "]\n"
     ]
    }
   ],
   "source": [
    "app.launch(share=True)"
   ]
  },
  {
   "cell_type": "markdown",
   "id": "fce85d39-94af-479c-95f4-43eb66bd26f1",
   "metadata": {},
   "source": [
    "##### Analysis #####\n",
    "\n",
    "The Agent did pretty well! An area of improvement would be if the output specified that it's important to know the premiums associated with each plan when making the final decision. That being said, I'm really happy with how brief (and emoji-less) this output is. It also is doing a good job of asking only one question at a time."
   ]
  },
  {
   "cell_type": "markdown",
   "id": "e7404a38-138a-463c-bb37-f47669915432",
   "metadata": {},
   "source": [
    "#### User Scenario 2: General Healthcare Questions ####"
   ]
  },
  {
   "cell_type": "code",
   "execution_count": 5,
   "id": "99a63df2-d186-4516-94c6-db8c5f20cca5",
   "metadata": {},
   "outputs": [
    {
     "name": "stdout",
     "output_type": "stream",
     "text": [
      "Rerunning server... use `close()` to stop if you need to change `launch()` parameters.\n",
      "----\n",
      "* Running on public URL: https://737d1e8d95938324f9.gradio.live\n",
      "\n",
      "This share link expires in 72 hours. For free permanent hosting and GPU upgrades, run `gradio deploy` from the terminal in the working directory to deploy to Hugging Face Spaces (https://huggingface.co/spaces)\n"
     ]
    },
    {
     "data": {
      "text/html": [
       "<div><iframe src=\"https://737d1e8d95938324f9.gradio.live\" width=\"100%\" height=\"500\" allow=\"autoplay; camera; microphone; clipboard-read; clipboard-write;\" frameborder=\"0\" allowfullscreen></iframe></div>"
      ],
      "text/plain": [
       "<IPython.core.display.HTML object>"
      ]
     },
     "metadata": {},
     "output_type": "display_data"
    },
    {
     "data": {
      "text/plain": []
     },
     "execution_count": 5,
     "metadata": {},
     "output_type": "execute_result"
    },
    {
     "name": "stdout",
     "output_type": "stream",
     "text": [
      "--- Turn Start ---\n",
      "Gradio messages: What is the difference between a PPO and HMO plan?\n",
      "Gradio history: []\n",
      "--- Turn Start ---\n",
      "Gradio messages: Ok, does the HMO plan my employer offers in the provided brochure require referrals to see a specialist? \n",
      "Gradio history: [\n",
      "  {\n",
      "    \"role\": \"user\",\n",
      "    \"metadata\": {\n",
      "      \"title\": null,\n",
      "      \"id\": null,\n",
      "      \"parent_id\": null,\n",
      "      \"duration\": null,\n",
      "      \"status\": null\n",
      "    },\n",
      "    \"content\": \"What is the difference between a PPO and HMO plan?\",\n",
      "    \"options\": null\n",
      "  },\n",
      "  {\n",
      "    \"role\": \"assistant\",\n",
      "    \"metadata\": {\n",
      "      \"title\": null,\n",
      "      \"id\": null,\n",
      "      \"parent_id\": null,\n",
      "      \"duration\": null,\n",
      "      \"status\": null\n",
      "    },\n",
      "    \"content\": \"The main differences between PPO (Preferred Provider Organization) and HMO (Health Maintenance Organization) health insurance plans are about costs, provider networks, out-of-network care and referrals. Here are some common distinctions:\\n\\n1. **Network of providers**: Both types of insurance work with a network of providers, but PPOs have larger networks than HMOs. Additionally, with a PPO, you can see any health care professional in the network without a referral, including specialists.\\n\\n2. **Out-of-network care**: PPOs allow for out-of-network care, though it may come with higher out-of-pocket costs. On the other hand, HMOs usually don't cover out-of-network care unless it\\u2019s an emergency.\\n\\n3. **Referrals**: In an HMO, you typically must get a referral from your primary care doctor to visit a specialist, which is not the case in a PPO.\\n\\n4. **Cost**: HMOs generally have lower premiums and out-of-pocket expenses but offer less flexibility because they require referrals and do not cover out-of-network care (except for emergencies). PPOs usually have higher premiums and out-of-pocket expenses but provide more flexibility in choice of doctors and specialist services.\\n\\nRemember that it's essential to consider your healthcare needs and budget when choosing a plan.\",\n",
      "    \"options\": null\n",
      "  }\n",
      "]\n"
     ]
    }
   ],
   "source": [
    "app.launch(share=True)"
   ]
  },
  {
   "cell_type": "markdown",
   "id": "bf946897-e7a6-40fd-90f9-df1696c18dd6",
   "metadata": {},
   "source": [
    "##### Analysis #####\n",
    "\n",
    "This output looks good to me! It appears that the Agent referenced both the internet and the provided document in a single conversation. I also appreciated that it elaborated about what healthcare plans where you don't need a referral to see a specialist are like. "
   ]
  },
  {
   "cell_type": "markdown",
   "id": "afaa9933-c4d3-4584-8ca4-94daaa7f4482",
   "metadata": {},
   "source": [
    "#### User Scenario 3: Specific Plan Questions ####"
   ]
  },
  {
   "cell_type": "code",
   "execution_count": 7,
   "id": "166b5789-9102-4c13-83af-8ee0c260e2f2",
   "metadata": {},
   "outputs": [
    {
     "name": "stdout",
     "output_type": "stream",
     "text": [
      "Rerunning server... use `close()` to stop if you need to change `launch()` parameters.\n",
      "----\n",
      "* Running on public URL: https://737d1e8d95938324f9.gradio.live\n",
      "\n",
      "This share link expires in 72 hours. For free permanent hosting and GPU upgrades, run `gradio deploy` from the terminal in the working directory to deploy to Hugging Face Spaces (https://huggingface.co/spaces)\n"
     ]
    },
    {
     "data": {
      "text/html": [
       "<div><iframe src=\"https://737d1e8d95938324f9.gradio.live\" width=\"100%\" height=\"500\" allow=\"autoplay; camera; microphone; clipboard-read; clipboard-write;\" frameborder=\"0\" allowfullscreen></iframe></div>"
      ],
      "text/plain": [
       "<IPython.core.display.HTML object>"
      ]
     },
     "metadata": {},
     "output_type": "display_data"
    },
    {
     "data": {
      "text/plain": []
     },
     "execution_count": 7,
     "metadata": {},
     "output_type": "execute_result"
    },
    {
     "name": "stdout",
     "output_type": "stream",
     "text": [
      "--- Turn Start ---\n",
      "Gradio messages: How much would the copay be for an urgent care visit? You have my plan brochure. \n",
      "Gradio history: []\n",
      "--- Turn Start ---\n",
      "Gradio messages: I have my Blue Access PPO Silver 7000\n",
      "Gradio history: [\n",
      "  {\n",
      "    \"role\": \"user\",\n",
      "    \"metadata\": {\n",
      "      \"title\": null,\n",
      "      \"id\": null,\n",
      "      \"parent_id\": null,\n",
      "      \"duration\": null,\n",
      "      \"status\": null\n",
      "    },\n",
      "    \"content\": \"How much would the copay be for an urgent care visit? You have my plan brochure. \",\n",
      "    \"options\": null\n",
      "  },\n",
      "  {\n",
      "    \"role\": \"assistant\",\n",
      "    \"metadata\": {\n",
      "      \"title\": null,\n",
      "      \"id\": null,\n",
      "      \"parent_id\": null,\n",
      "      \"duration\": null,\n",
      "      \"status\": null\n",
      "    },\n",
      "    \"content\": \"The copay for an urgent care visit differs depending on your specific plan. Here are some examples from the brochure:\\n\\n- Bronze 3800: $100 copay\\n- Silver 7000 and 3500, Premier Silver 0: $100 copay\\n- Extra Savings Silver (income level 150-199% FPL): $10 copay\\n- Extra Savings Silver (income level 200-249% FPL), Premier Silver 0: $100 copay\\n- Gold 1700 HSA: $40 copay after deductible\\n- Gold 1500: $70 copay\\n- Gold 0, Premier Gold 0: $40 copay\\n\\nPlease let me know which specific plan you're enrolled in so I can provide accurate information.\",\n",
      "    \"options\": null\n",
      "  }\n",
      "]\n",
      "--- Turn Start ---\n",
      "Gradio messages: How much would it be if I had PREMIER GOLD 0?\n",
      "Gradio history: [\n",
      "  {\n",
      "    \"role\": \"user\",\n",
      "    \"metadata\": {\n",
      "      \"title\": null,\n",
      "      \"id\": null,\n",
      "      \"parent_id\": null,\n",
      "      \"duration\": null,\n",
      "      \"status\": null\n",
      "    },\n",
      "    \"content\": \"How much would the copay be for an urgent care visit? You have my plan brochure. \",\n",
      "    \"options\": null\n",
      "  },\n",
      "  {\n",
      "    \"role\": \"assistant\",\n",
      "    \"metadata\": {\n",
      "      \"title\": null,\n",
      "      \"id\": null,\n",
      "      \"parent_id\": null,\n",
      "      \"duration\": null,\n",
      "      \"status\": null\n",
      "    },\n",
      "    \"content\": \"The copay for an urgent care visit differs depending on your specific plan. Here are some examples from the brochure:\\n\\n- Bronze 3800: $100 copay\\n- Silver 7000 and 3500, Premier Silver 0: $100 copay\\n- Extra Savings Silver (income level 150-199% FPL): $10 copay\\n- Extra Savings Silver (income level 200-249% FPL), Premier Silver 0: $100 copay\\n- Gold 1700 HSA: $40 copay after deductible\\n- Gold 1500: $70 copay\\n- Gold 0, Premier Gold 0: $40 copay\\n\\nPlease let me know which specific plan you're enrolled in so I can provide accurate information.\",\n",
      "    \"options\": null\n",
      "  },\n",
      "  {\n",
      "    \"role\": \"user\",\n",
      "    \"metadata\": {\n",
      "      \"title\": null,\n",
      "      \"id\": null,\n",
      "      \"parent_id\": null,\n",
      "      \"duration\": null,\n",
      "      \"status\": null\n",
      "    },\n",
      "    \"content\": \"I have my Blue Access PPO Silver 7000\",\n",
      "    \"options\": null\n",
      "  },\n",
      "  {\n",
      "    \"role\": \"assistant\",\n",
      "    \"metadata\": {\n",
      "      \"title\": null,\n",
      "      \"id\": null,\n",
      "      \"parent_id\": null,\n",
      "      \"duration\": null,\n",
      "      \"status\": null\n",
      "    },\n",
      "    \"content\": \"According to the brochure for your specific plan, the Blue Access PPO Silver 7000, the copay for an urgent care visit is $100. \\n\\nRemember, a copay is a set amount you'll have to pay each time you visit urgent care. It's one part of the costs associated with healthcare and doesn't include the deductible or any coinsurance you may have.\\n\\nPlease feel free to ask if you have more questions or need clarification on something!\",\n",
      "    \"options\": null\n",
      "  }\n",
      "]\n"
     ]
    }
   ],
   "source": [
    "app.launch(share=True)"
   ]
  },
  {
   "cell_type": "markdown",
   "id": "274ed439-661a-4181-8471-0c756d684e41",
   "metadata": {},
   "source": [
    "##### Analysis #####\n",
    "\n",
    "The Agent did pretty well! The numbers it retrieved for the 2 plans I specified were correct. I think the caveats about premiums and deductibles were helpful. "
   ]
  },
  {
   "cell_type": "markdown",
   "id": "032effc2-b216-4c45-b842-59187d762d58",
   "metadata": {},
   "source": [
    "#### Bonus: Seeing if doctors are in network ####"
   ]
  },
  {
   "cell_type": "code",
   "execution_count": 11,
   "id": "2a895413-751b-4888-84df-e679f222fff3",
   "metadata": {},
   "outputs": [
    {
     "name": "stdout",
     "output_type": "stream",
     "text": [
      "Rerunning server... use `close()` to stop if you need to change `launch()` parameters.\n",
      "----\n",
      "* Running on public URL: https://737d1e8d95938324f9.gradio.live\n",
      "\n",
      "This share link expires in 72 hours. For free permanent hosting and GPU upgrades, run `gradio deploy` from the terminal in the working directory to deploy to Hugging Face Spaces (https://huggingface.co/spaces)\n"
     ]
    },
    {
     "data": {
      "text/html": [
       "<div><iframe src=\"https://737d1e8d95938324f9.gradio.live\" width=\"100%\" height=\"500\" allow=\"autoplay; camera; microphone; clipboard-read; clipboard-write;\" frameborder=\"0\" allowfullscreen></iframe></div>"
      ],
      "text/plain": [
       "<IPython.core.display.HTML object>"
      ]
     },
     "metadata": {},
     "output_type": "display_data"
    },
    {
     "data": {
      "text/plain": []
     },
     "execution_count": 11,
     "metadata": {},
     "output_type": "execute_result"
    },
    {
     "name": "stdout",
     "output_type": "stream",
     "text": [
      "--- Turn Start ---\n",
      "Gradio messages: Does Raza Ahmad, MD accept blue cross blue shield insurance? \n",
      "Gradio history: []\n"
     ]
    }
   ],
   "source": [
    "app.launch(share=True)"
   ]
  },
  {
   "cell_type": "markdown",
   "id": "b797c40e-d7c4-44c3-9536-069b8ad75449",
   "metadata": {},
   "source": [
    "Yay!"
   ]
  },
  {
   "cell_type": "markdown",
   "id": "29a213ce-4758-4d9e-bcfc-63ea30506310",
   "metadata": {},
   "source": [
    "#### Bonus 2: Distractions ####"
   ]
  },
  {
   "cell_type": "code",
   "execution_count": 12,
   "id": "97f6411f-4bd8-413f-a305-92d0a6e1c421",
   "metadata": {},
   "outputs": [
    {
     "name": "stdout",
     "output_type": "stream",
     "text": [
      "Rerunning server... use `close()` to stop if you need to change `launch()` parameters.\n",
      "----\n",
      "* Running on public URL: https://737d1e8d95938324f9.gradio.live\n",
      "\n",
      "This share link expires in 72 hours. For free permanent hosting and GPU upgrades, run `gradio deploy` from the terminal in the working directory to deploy to Hugging Face Spaces (https://huggingface.co/spaces)\n"
     ]
    },
    {
     "data": {
      "text/html": [
       "<div><iframe src=\"https://737d1e8d95938324f9.gradio.live\" width=\"100%\" height=\"500\" allow=\"autoplay; camera; microphone; clipboard-read; clipboard-write;\" frameborder=\"0\" allowfullscreen></iframe></div>"
      ],
      "text/plain": [
       "<IPython.core.display.HTML object>"
      ]
     },
     "metadata": {},
     "output_type": "display_data"
    },
    {
     "data": {
      "text/plain": []
     },
     "execution_count": 12,
     "metadata": {},
     "output_type": "execute_result"
    },
    {
     "name": "stdout",
     "output_type": "stream",
     "text": [
      "--- Turn Start ---\n",
      "Gradio messages: What is the most popular dog breed in the US? \n",
      "Gradio history: []\n",
      "--- Turn Start ---\n",
      "Gradio messages: Dogs support my mental health! \n",
      "Gradio history: [\n",
      "  {\n",
      "    \"role\": \"user\",\n",
      "    \"metadata\": {\n",
      "      \"title\": null,\n",
      "      \"id\": null,\n",
      "      \"parent_id\": null,\n",
      "      \"duration\": null,\n",
      "      \"status\": null\n",
      "    },\n",
      "    \"content\": \"What is the most popular dog breed in the US? \",\n",
      "    \"options\": null\n",
      "  },\n",
      "  {\n",
      "    \"role\": \"assistant\",\n",
      "    \"metadata\": {\n",
      "      \"title\": null,\n",
      "      \"id\": null,\n",
      "      \"parent_id\": null,\n",
      "      \"duration\": null,\n",
      "      \"status\": null\n",
      "    },\n",
      "    \"content\": \"I'm sorry for any confusion, but I can only provide information related to healthcare. I'm designed to help users navigate the complex U.S. healthcare system. If you have questions about health plans, insurance policies, healthcare terms, and such, feel free to ask!\",\n",
      "    \"options\": null\n",
      "  }\n",
      "]\n",
      "--- Turn Start ---\n",
      "Gradio messages: What color collar looks best on  a golden retriever?\n",
      "Gradio history: [\n",
      "  {\n",
      "    \"role\": \"user\",\n",
      "    \"metadata\": {\n",
      "      \"title\": null,\n",
      "      \"id\": null,\n",
      "      \"parent_id\": null,\n",
      "      \"duration\": null,\n",
      "      \"status\": null\n",
      "    },\n",
      "    \"content\": \"What is the most popular dog breed in the US? \",\n",
      "    \"options\": null\n",
      "  },\n",
      "  {\n",
      "    \"role\": \"assistant\",\n",
      "    \"metadata\": {\n",
      "      \"title\": null,\n",
      "      \"id\": null,\n",
      "      \"parent_id\": null,\n",
      "      \"duration\": null,\n",
      "      \"status\": null\n",
      "    },\n",
      "    \"content\": \"I'm sorry for any confusion, but I can only provide information related to healthcare. I'm designed to help users navigate the complex U.S. healthcare system. If you have questions about health plans, insurance policies, healthcare terms, and such, feel free to ask!\",\n",
      "    \"options\": null\n",
      "  },\n",
      "  {\n",
      "    \"role\": \"user\",\n",
      "    \"metadata\": {\n",
      "      \"title\": null,\n",
      "      \"id\": null,\n",
      "      \"parent_id\": null,\n",
      "      \"duration\": null,\n",
      "      \"status\": null\n",
      "    },\n",
      "    \"content\": \"Dogs support my mental health! \",\n",
      "    \"options\": null\n",
      "  },\n",
      "  {\n",
      "    \"role\": \"assistant\",\n",
      "    \"metadata\": {\n",
      "      \"title\": null,\n",
      "      \"id\": null,\n",
      "      \"parent_id\": null,\n",
      "      \"duration\": null,\n",
      "      \"status\": null\n",
      "    },\n",
      "    \"content\": \"That's wonderful to hear! Pets, like dogs, can indeed play an integral role in people's mental health by providing companionship and love. Many find their pets to be great stress-relievers. Just remember, as much joy as they bring, owning a pet also comes with responsibilities and costs, including for their healthcare. If you have questions on that subject or any other healthcare-related topics, feel free to ask! \",\n",
      "    \"options\": null\n",
      "  }\n",
      "]\n"
     ]
    }
   ],
   "source": [
    "app.launch(share=True)"
   ]
  },
  {
   "cell_type": "markdown",
   "id": "93f742de-c28a-4ffb-9dcd-d8e4749d597d",
   "metadata": {},
   "source": [
    "Ha! I wasn't expecting the topic pivot for talking about healthcare plans for dogs. Good work, HealthPlan Helper."
   ]
  },
  {
   "cell_type": "code",
   "execution_count": null,
   "id": "24cc8f94-0d54-474c-9e27-631a27b726fc",
   "metadata": {},
   "outputs": [],
   "source": []
  }
 ],
 "metadata": {
  "citation-manager": {
   "items": {}
  },
  "kernelspec": {
   "display_name": "Python 3-12 (COMM4190)",
   "language": "python",
   "name": "python3-12_comm4190"
  },
  "language_info": {
   "codemirror_mode": {
    "name": "ipython",
    "version": 3
   },
   "file_extension": ".py",
   "mimetype": "text/x-python",
   "name": "python",
   "nbconvert_exporter": "python",
   "pygments_lexer": "ipython3",
   "version": "3.12.8"
  }
 },
 "nbformat": 4,
 "nbformat_minor": 5
}
